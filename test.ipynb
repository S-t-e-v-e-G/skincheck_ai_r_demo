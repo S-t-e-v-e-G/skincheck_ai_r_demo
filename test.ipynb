{
 "cells": [
  {
   "cell_type": "code",
   "execution_count": 2,
   "metadata": {},
   "outputs": [
    {
     "name": "stderr",
     "output_type": "stream",
     "text": [
      "2025-01-06 11:13:33.141908: E external/local_xla/xla/stream_executor/cuda/cuda_driver.cc:152] failed call to cuInit: INTERNAL: CUDA error: Failed call to cuInit: UNKNOWN ERROR (303)\n"
     ]
    }
   ],
   "source": [
    "import tensorflow as tf\n",
    "from tensorflow.keras.preprocessing import image\n",
    "import numpy as np\n",
    "\n",
    "# Load the model\n",
    "model = tf.keras.models.load_model('skincheckr-demo.keras')\n"
   ]
  },
  {
   "cell_type": "code",
   "execution_count": null,
   "metadata": {},
   "outputs": [
    {
     "name": "stdout",
     "output_type": "stream",
     "text": [
      "1/1 [==============================] - 0s 36ms/step\n"
     ]
    }
   ],
   "source": [
    "# Load an image and preprocess it\n",
    "img_path = 'skincheckr_demo_malignant.jpg'  # Replace with your image path\n",
    "img = image.load_img(img_path, target_size=(56, 56))  # Changed to 64x64\n",
    "img_array = image.img_to_array(img)\n",
    "img_array = np.expand_dims(img_array, axis=0)  # Add batch dimension\n",
    "img_array = img_array / 255.0  # Normalize if required\n",
    "\n",
    "# Make a prediction\n",
    "predictions = model.predict(img_array)\n"
   ]
  },
  {
   "cell_type": "code",
   "execution_count": 9,
   "metadata": {},
   "outputs": [
    {
     "name": "stdout",
     "output_type": "stream",
     "text": [
      "Class 0: 13.020000457763672%\n",
      "Class 1: 17.719999313354492%\n",
      "Class 2: 69.26000213623047%\n",
      "\n",
      "Predicted Class: 2\n"
     ]
    }
   ],
   "source": [
    "# Convert predictions to percentages and round\n",
    "percentages = np.round(predictions * 100, 2)\n",
    "\n",
    "# Display results more clearly\n",
    "for i, percentage in enumerate(percentages[0]):\n",
    "    print(f\"Class {i}: {percentage}%\")\n",
    "\n",
    "# Show the predicted class with the highest probability\n",
    "predicted_class = np.argmax(predictions, axis=1)[0]\n",
    "print(f\"\\nPredicted Class: {predicted_class}\")"
   ]
  }
 ],
 "metadata": {
  "kernelspec": {
   "display_name": "gecko",
   "language": "python",
   "name": "python3"
  },
  "language_info": {
   "codemirror_mode": {
    "name": "ipython",
    "version": 3
   },
   "file_extension": ".py",
   "mimetype": "text/x-python",
   "name": "python",
   "nbconvert_exporter": "python",
   "pygments_lexer": "ipython3",
   "version": "3.12.6"
  }
 },
 "nbformat": 4,
 "nbformat_minor": 2
}
